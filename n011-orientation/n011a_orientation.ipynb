{
  "nbformat": 4,
  "nbformat_minor": 0,
  "metadata": {
    "colab": {
      "name": "s011a-orientation.ipynb",
      "provenance": [],
      "include_colab_link": true
    },
    "kernelspec": {
      "name": "python3",
      "display_name": "Python 3"
    },
    "language_info": {
      "name": "python"
    }
  },
  "cells": [
    {
      "cell_type": "markdown",
      "metadata": {
        "id": "view-in-github",
        "colab_type": "text"
      },
      "source": [
        "<a href=\"https://colab.research.google.com/github/itwipsy/Nomadcoder/blob/master/n011-orientation/n011a_orientation.ipynb\" target=\"_parent\"><img src=\"https://colab.research.google.com/assets/colab-badge.svg\" alt=\"Open In Colab\"/></a>"
      ]
    },
    {
      "cell_type": "markdown",
      "metadata": {
        "id": "wyWeBDNXqRyy"
      },
      "source": [
        "<img src='https://i.imgur.com/RDAD11M.png' width = '200' align = 'right'>\n",
        "\n",
        "## *DATA SCIENCE / SECTION 0 / SPRINT 1 / NOTE 1*\n",
        "\n",
        "---\n"
      ]
    },
    {
      "cell_type": "markdown",
      "metadata": {
        "id": "6oYt3RjDqWCE"
      },
      "source": [
        "# 📝 **Assignment**"
      ]
    },
    {
      "cell_type": "markdown",
      "metadata": {
        "id": "qsuJcWOdqWiE"
      },
      "source": [
        "# **자기소개서 작성하기 - Icebreaker**\n",
        "\n",
        "자기소개는 동기 수강생분들에게 여러분을 간단하게 소개하기도 하고,\n",
        "**Markdown** 언어의 사용방법을 익혀보는 시간이기도 합니다.\n",
        "\n",
        "- 참고. **Markdown** 은 경량 마크업 언어로 특수기호를 이용한 문법을 사용해서 빠르고 간편하게 문서를 작성하는 언어를 말합니다.\n",
        "- Github, StackOverFlow 를 비롯해서 각종 기업 및 기술에서 사용되고 있습니다.\n",
        "\n"
      ]
    },
    {
      "cell_type": "markdown",
      "metadata": {
        "id": "jMZlCc5bxDto"
      },
      "source": [
        "# ❗️ **코드스테이츠에서 질문, 답변을 진행할 때 MarkDown 문법으로 내용을 정리해주셔야합니다.**\n",
        "\n",
        "- [MarkDown 사용법](https://urclass.codestates.com/8da39087-f0cc-4211-87e4-4208ef617bc8?playlist=788) 은 연결되는 링크를 통해 더 확인해보시기 바랍니다!\n"
      ]
    },
    {
      "cell_type": "markdown",
      "metadata": {
        "id": "od-nRoXYqYAk"
      },
      "source": [
        "# **✨여러분들은 아래의 질문을 만족하면서 OT 과제를 제출하셔야합니다**\n",
        "\n",
        "\n"
      ]
    },
    {
      "cell_type": "markdown",
      "metadata": {
        "id": "8NxwcX66Wkv-"
      },
      "source": [
        "**예를 들어, 아래와 같은 질문이 있을 수 있습니다.**\n"
      ]
    },
    {
      "cell_type": "markdown",
      "metadata": {
        "id": "COVpO13q_x5G"
      },
      "source": [
        ""
      ]
    },
    {
      "cell_type": "markdown",
      "metadata": {
        "id": "8MLIRTFgW1Ui"
      },
      "source": [
        "당신의 스마트폰 브랜드는 무엇입니까? :\n",
        "- Heading 2번째 큰 글자 크기로 출력하세요"
      ]
    },
    {
      "cell_type": "code",
      "metadata": {
        "cellView": "form",
        "id": "uT_F3Ux0_yzx"
      },
      "source": [
        "#@title ##Iphone\n"
      ],
      "execution_count": 2,
      "outputs": []
    },
    {
      "cell_type": "markdown",
      "metadata": {
        "id": "cg-MtHIuW1XD"
      },
      "source": [
        "**질문의 답변을 달아주시고 요구사항에 맞게 내용을 수정해주시면 됩니다.**\n",
        "> Heading 이라는 단어가 무엇인지 모르시겠나요? [Markdown 사용법](https://urclass.codestates.com/8da39087-f0cc-4211-87e4-4208ef617bc8?playlist=788) 을 참고해보시기 바랍니다"
      ]
    },
    {
      "cell_type": "markdown",
      "metadata": {
        "id": "lV4N7P8wW1ad"
      },
      "source": [
        "## 당신의 스마트폰 브랜드는 무엇입니까? : 아이폰S5\n"
      ]
    },
    {
      "cell_type": "markdown",
      "metadata": {
        "id": "0A7lh12YXm_c"
      },
      "source": [
        "---\n",
        "# **🔥 이제 질문에 대한 답을 작성해 볼까요?**\n"
      ]
    },
    {
      "cell_type": "markdown",
      "metadata": {
        "id": "n5a77TV0XnB2"
      },
      "source": [
        "현재의 나를 세 단어로 표현하면 :\n",
        "- 해당 질문을 더블클릭하면 수정하실수 있습니다\n",
        "- [Markdown] Heading 3번째 큰 글자 크기로 출력하세요\n"
      ]
    },
    {
      "cell_type": "markdown",
      "metadata": {
        "id": "tWtwceTACWiN"
      },
      "source": [
        "###사자, 셀러드. 야호"
      ]
    },
    {
      "cell_type": "markdown",
      "metadata": {
        "id": "NPLZfGW-XnFM"
      },
      "source": [
        "내가 가장 좋아하는 취미는? :\n",
        "- 해당 질문을 더블클릭하면 수정하실수 있습니다\n",
        "- [Markdown] 두꺼운 글씨로 출력하세요"
      ]
    },
    {
      "cell_type": "markdown",
      "metadata": {
        "id": "O9R0ICLoCUhd"
      },
      "source": [
        "**그림그리기**\n"
      ]
    },
    {
      "cell_type": "markdown",
      "metadata": {
        "id": "ZHV8yR-bYkjZ"
      },
      "source": [
        "만약 시간 여행이 가능하다면 \"언제\", \"어디로\", \"왜\" 가고 싶은지 간단하게 작성해 주시기 바랍니다. : \n",
        "- 해당 질문을 더블클릭하면 수정하실수 있습니다\n",
        "- [Markdown] 순서없는 리스트 형식으로 \"언제\", \"어디로\", \"왜\" 를 작성해주세요"
      ]
    },
    {
      "cell_type": "markdown",
      "metadata": {
        "id": "eqR3WTj9CPNA"
      },
      "source": [
        "* 언제 : 십년전으로\n",
        "* 어디로 : 군대로\n",
        "* 왜 : 그냥가능성이많았던때로 "
      ]
    },
    {
      "cell_type": "markdown",
      "metadata": {
        "id": "ssC7AxFVYkrp"
      },
      "source": [
        "부트캠프를 앞둔 나의 다짐은 무엇인가요? :\n",
        "- 해당 질문을 더블클릭하면 수정하실수 있습니다\n",
        "- [Markdown] code 로 표현해주세요"
      ]
    },
    {
      "cell_type": "code",
      "metadata": {
        "colab": {
          "base_uri": "https://localhost:8080/"
        },
        "id": "71D2VaLbCl_y",
        "outputId": "9964b603-b4a2-4055-ef7d-bc29ece1f78b"
      },
      "source": [
        "def hello_world():\n",
        "    print('열심히 해야겠다!!')\n",
        "\n",
        "hello_world()"
      ],
      "execution_count": 9,
      "outputs": [
        {
          "output_type": "stream",
          "text": [
            "열심히 해야겠다!!\n"
          ],
          "name": "stdout"
        }
      ]
    },
    {
      "cell_type": "markdown",
      "metadata": {
        "id": "eU9W2fQpYkwA"
      },
      "source": [
        "---\n",
        "\n",
        "# **여러분의 답이 모두 완성되면 아래와 같은 모양일 것입니다.**\n",
        "\n",
        "\n"
      ]
    },
    {
      "cell_type": "markdown",
      "metadata": {
        "id": "uX7XeW_fe0T2"
      },
      "source": [
        "![img](https://i.imgur.com/ehzHeat.png)"
      ]
    },
    {
      "cell_type": "markdown",
      "metadata": {
        "id": "SMzizWTMe-Mw"
      },
      "source": [
        "## **자기소개를 모두 작성하셨나요?**\n",
        "## **그럼 과제를 제출하고, 다른 수강생의 과제를 확인해봅시다 !**\n",
        "## **[과제제출안내](https://urclass.codestates.com/ba6dde08-99ed-42cd-9c3b-1c1dc3678312?playlist=788) 의 링크를 따라와주세요 ʘ**"
      ]
    }
  ]
}